import tensorflow as tf
import matplotlib.pyplot as plt


mnist=tf.keras.datasets.mnist


(x_train,y_train),(x_test,y_test)=mnist.load_data()


plt.imshow(x_train[100])
plt.show


x_train=tf.keras.utils.normalize(x_train,axis=1)
x_test=tf.keras.utils.normalize(x_train,axis=1)


model=tf.keras.models.Sequential()
model.add(tf.keras.layers.Flatten())
model.add(tf.keras.layers.Dense(128,activation=tf.nn.relu))
model.add(tf.keras.layers.Dense(128,activation=tf.nn.relu))
model.add(tf.keras.layers.Dense(10,activation=tf.nn.softmax))


model.compile(optimizer='adam',loss='sparse_categorical_crossentropy',metrics=['accuracy'])
model.fit(x_train,y_train,epochs=10)

model.save(r'C:\python\digit_classification\digit_model.model')


new_model=tf.keras.models.load_model(r'C:\python\digit_classification\digit_model.model')

pridictions=new_model.predict(x_test)
pridictions

n=int(input("Enter Image Number: "))
plt.imshow(x_test[n])
plt.show()
import numpy as np
p=np.argmax(pridictions[n])
print("Pedicted Number Is",p)

